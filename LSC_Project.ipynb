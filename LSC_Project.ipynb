{
 "cells": [
  {
   "cell_type": "code",
   "execution_count": 76,
   "metadata": {},
   "outputs": [],
   "source": [
    "import findspark\n",
    "findspark.init(\"C:/Users/chio9/Anaconda3/Spark\")\n",
    "\n",
    "from pyspark.sql import SparkSession\n",
    "from pyspark import StorageLevel"
   ]
  },
  {
   "cell_type": "code",
   "execution_count": 71,
   "metadata": {},
   "outputs": [
    {
     "name": "stdout",
     "output_type": "stream",
     "text": [
      "Wall time: 575 ms\n"
     ]
    }
   ],
   "source": [
    "%%time\n",
    "\n",
    "#initialization of spark session\n",
    "sk = SparkSession.builder.appName(\"Project\").getOrCreate()\n",
    "\n",
    "#load the datasets\n",
    "df = sk.read.format(\"csv\").option(\"header\", \"true\").load(\"Summer-Olympic-medals-1976-to-2008.csv\")\n",
    "exceptions = sk.read.format(\"csv\").option(\"header\",\"true\").load(\"Did-Not-Participate-1976-to-2008.csv\")"
   ]
  },
  {
   "cell_type": "code",
   "execution_count": null,
   "metadata": {},
   "outputs": [],
   "source": [
    "#Structure of the datasets\n",
    "df.printSchema()\n",
    "exceptions.printSchema()"
   ]
  },
  {
   "cell_type": "code",
   "execution_count": 79,
   "metadata": {},
   "outputs": [
    {
     "name": "stdout",
     "output_type": "stream",
     "text": [
      "Wall time: 1.56 s\n"
     ]
    }
   ],
   "source": [
    "#Q1 and Q2 with persistence\n",
    "%%time\n",
    "\n",
    "#Select the columns containing the country names and medals won\n",
    "imp = df.rdd.map(lambda x: (x[10],x[8]))\n",
    "#Create a different grouping for each type of medal for each country\n",
    "med = imp.map(lambda x: ((x[1],x[0]),1)).reduceByKey(lambda acc,x: x + acc)\n",
    "#Sort the result in alphabetical order\n",
    "result = med.sortByKey(1).persist(StorageLevel.MEMORY_ONLY).collect()\n",
    "\n",
    "result = med.sortByKey(1).filter(lambda x: x[0][1] == \"Gold\").map(lambda x: (x[1],x[0][0])).sortByKey(0).collect()"
   ]
  },
  {
   "cell_type": "code",
   "execution_count": 72,
   "metadata": {
    "scrolled": false
   },
   "outputs": [
    {
     "name": "stdout",
     "output_type": "stream",
     "text": [
      "Wall time: 1.57 s\n"
     ]
    }
   ],
   "source": [
    "%%time\n",
    "#Q1: Which country won the most gold medals?\n",
    "\n",
    "#The only useful columns are \"Country\" and \"Medal\" so we select them\n",
    "imp = df.rdd.map(lambda x: (x[10],x[8]))\n",
    "#We are only interested in gold medals so we filter the others out, we then create tuples (\"Country\",number of gold medals)\n",
    "med = imp.filter(lambda x: x[0] == \"Gold\").map(lambda x: (x[1],1)).reduceByKey(lambda acc,x: x + acc)\n",
    "#Finally we sort the result in descending order\n",
    "result = med.map(lambda x: (x[1],x[0])).sortByKey(0).collect()"
   ]
  },
  {
   "cell_type": "code",
   "execution_count": 81,
   "metadata": {},
   "outputs": [
    {
     "name": "stdout",
     "output_type": "stream",
     "text": [
      "Wall time: 1.15 s\n"
     ]
    }
   ],
   "source": [
    "%%time\n",
    "#Q2: How many gold,silver and bronze medals did each country win?\n",
    "\n",
    "#Select the columns containing the country names and medals won\n",
    "imp = df.rdd.map(lambda x: (x[10],x[8]))\n",
    "#Create a different grouping for each type of medal for each country\n",
    "med = imp.map(lambda x: ((x[1],x[0]),1)).reduceByKey(lambda acc,x: x + acc)\n",
    "#Sort the result in alphabetical order\n",
    "result = med.sortByKey(1).collect()"
   ]
  },
  {
   "cell_type": "code",
   "execution_count": 9,
   "metadata": {},
   "outputs": [
    {
     "name": "stdout",
     "output_type": "stream",
     "text": [
      "Wall time: 1.05 s\n"
     ]
    }
   ],
   "source": [
    "%%time\n",
    "#Q3: What disciplines are mixed (both male and female compete against each other)?\n",
    "\n",
    "#Select the columns containing discipline and gender of the event\n",
    "imp = df.rdd.map(lambda x: (x[3],x[9]))\n",
    "#In the \"Event_gender\" column an \"X\" marks mixed events\n",
    "med = imp.filter(lambda x: x[1] == \"X\").groupByKey()\n",
    "#Return the name of the disciplines with at least one mixed event\n",
    "result = med.map(lambda x: x[0]).collect()"
   ]
  },
  {
   "cell_type": "code",
   "execution_count": 11,
   "metadata": {},
   "outputs": [
    {
     "name": "stdout",
     "output_type": "stream",
     "text": [
      "Wall time: 1.09 s\n"
     ]
    }
   ],
   "source": [
    "%%time\n",
    "#Q4: In mixed sports, are the gold medals winners composed of more male or female athletes?\n",
    "\n",
    "#Select the columns containing gender of the athlete, gender of the events and medals\n",
    "imp = df.rdd.map(lambda x: (x[6],x[9],x[10]))\n",
    "#Keep only mixed events and count the number of gold medals for the 2 genders\n",
    "med = imp.filter(lambda x: x[1] == \"X\" and x[2] == \"Gold\").map(lambda x: (x[0],1)).reduceByKey(lambda acc,x: x + acc)\n",
    "#Sort and format result\n",
    "result = med.map(lambda x: (x[1],x[0])).sortByKey(0).map(lambda x: (x[1],x[0])).collect()"
   ]
  },
  {
   "cell_type": "code",
   "execution_count": 84,
   "metadata": {},
   "outputs": [
    {
     "name": "stdout",
     "output_type": "stream",
     "text": [
      "Wall time: 7.22 s\n"
     ]
    }
   ],
   "source": [
    "%%time\n",
    "#Q5: Which disciplines are only for man or only for women?\n",
    "\n",
    "#Select disciplines and gender of events\n",
    "imp = df.rdd.map(lambda x: (x[3],x[9]))\n",
    "#Keep the disciplines with male events with no repetitions\n",
    "med = imp.filter(lambda x: x[1] == \"M\").map(lambda x: ((x[0]),x[1])).distinct()\n",
    "#Keep the disciplines with female events with no repetitions\n",
    "med2 = imp.filter(lambda x: x[1] == \"W\").map(lambda x: ((x[0]),x[1])).distinct()\n",
    "#Join the 2 results and keep only the disciplines that are either men only or women only\n",
    "med3 = med.fullOuterJoin(med2).filter(lambda x: x[1][0] is None or x[1][1] is None)\n",
    "#Format the result\n",
    "r1 = med3.filter(lambda x: x[1][1] is None).map(lambda x: (\"Men Only\",x[0])).reduceByKey(lambda acc,x: x + \", \" + acc).collect()\n",
    "r2 = med3.filter(lambda x: x[1][0] is None).map(lambda x: (\"Women Only\",x[0])).reduceByKey(lambda acc,x: x + \", \" + acc).collect()\n",
    "result = [r1,r2]"
   ]
  },
  {
   "cell_type": "code",
   "execution_count": 15,
   "metadata": {},
   "outputs": [
    {
     "name": "stdout",
     "output_type": "stream",
     "text": [
      "Wall time: 2.12 s\n"
     ]
    }
   ],
   "source": [
    "%%time\n",
    "#Q6: Top 3 countries which gained most and least medals in team sports?\n",
    "\n",
    "#Select all the columns except name and gender of the athlete (the only 2 things that differentiate between teammates)\n",
    "imp = df.rdd.map(lambda x: (x[0],x[1],x[2],x[3],x[4],x[7],x[8],x[9],x[10]))\n",
    "#Sum the number of team members for each winning team\n",
    "med = imp.map(lambda x: ((x[0],x[1],x[2],x[3],x[4],x[5],x[6],x[7],x[8]),1)).reduceByKey(lambda acc,x: x + acc)\n",
    "#For each country sum the number of team members after removing the teams with only one member (single athlete sports)\n",
    "med2 = med.map(lambda x: (x[0][6],x[1])).filter(lambda x: x[1]>1).reduceByKey(lambda acc,x: x + acc).map(lambda x: (x[1],x[0]))\n",
    "#Sort the number of won medals and keep only the 3 best and worst results\n",
    "r1 = med2.sortByKey(0).take(3)\n",
    "r2 = med2.sortByKey(1).take(3)\n",
    "result = [r1,r2]"
   ]
  },
  {
   "cell_type": "code",
   "execution_count": 82,
   "metadata": {},
   "outputs": [
    {
     "name": "stdout",
     "output_type": "stream",
     "text": [
      "Wall time: 4.82 s\n"
     ]
    }
   ],
   "source": [
    "%%time\n",
    "#Q7: Which countries didn't gain any medals from team sports?\n",
    "\n",
    "#Select all the columns except name and gender of the athlete (the only 2 things that differentiate between teammates) \n",
    "imp = df.rdd.map(lambda x: (x[0],x[1],x[2],x[3],x[4],x[7],x[8],x[9],x[10]))\n",
    "#Sum the number of team members for each winning team\n",
    "med = imp.map(lambda x: ((x[0],x[1],x[2],x[3],x[4],x[5],x[6],x[7],x[8]),1)).reduceByKey(lambda acc,x: x + acc)\n",
    "#For each country sum the number of team members after removing the teams with only one member (single athlete sports) \n",
    "med2 = med.map(lambda x: (x[0][6],x[1])).filter(lambda x: x[1]>1).reduceByKey(lambda acc,x: x + acc)\n",
    "#Create the list of all the countries in the dataset\n",
    "ref = df.rdd.map(lambda x: (x[8],\"\")).distinct()\n",
    "#Return only the countries that won no medals for team sports\n",
    "result = ref.leftOuterJoin(med2).filter(lambda x: x[1][1] is None).map(lambda x: x[0]).collect()"
   ]
  },
  {
   "cell_type": "code",
   "execution_count": 86,
   "metadata": {},
   "outputs": [
    {
     "name": "stdout",
     "output_type": "stream",
     "text": [
      "Wall time: 9.38 s\n"
     ]
    }
   ],
   "source": [
    "%%time\n",
    "#Q8: Top 3 countries that had the greatest increase and decrease of medals in 2 consecutive olympics?\n",
    "\n",
    "#Select the columns containing year of the olympics and country name\n",
    "imp = df.rdd.map(lambda x: (x[1],x[8]))\n",
    "#Sum all the medals that each country won for each olympics\n",
    "med = imp.map(lambda x: ((x[0],x[1]),1)).reduceByKey(lambda acc,x: x + acc).map(lambda x: ((x[0][1]),(x[0][0],x[1])))\n",
    "#Compare 2 different olympics and keep only the ones that are consecutives (they differ only by 4 years)\n",
    "med2 = med.join(med).filter(lambda x: int(x[1][1][0]) - int(x[1][0][0]) == 4)\n",
    "#Sort the differences in won medals and keep only the 3 best and worst results\n",
    "r1 = med2.map(lambda x: (x[1][1][1] - x[1][0][1],(x[1][1][0],x[0]))).sortByKey(0).take(3)\n",
    "r2 = med2.map(lambda x: (x[1][1][1] - x[1][0][1],(x[1][1][0],x[0]))).sortByKey(1).take(3)\n",
    "result = [r1,r2]"
   ]
  },
  {
   "cell_type": "code",
   "execution_count": 21,
   "metadata": {},
   "outputs": [
    {
     "name": "stdout",
     "output_type": "stream",
     "text": [
      "Wall time: 1.54 s\n"
     ]
    }
   ],
   "source": [
    "%%time\n",
    "#Q9: Which country won more medals for each discipline?\n",
    "\n",
    "#Select the columns containing disciplines and countries\n",
    "imp = df.rdd.map(lambda x: (x[3],x[8]))\n",
    "#Sum the number of medals for each country for each discipline\n",
    "med = imp.map(lambda x: ((x[0],x[1]),1)).reduceByKey(lambda acc,x: x + acc)\n",
    "#Keep only the countries that won the most medals for each discipline\n",
    "med2 = med.map(lambda x: (x[0][0],(x[0][1],x[1]))).reduceByKey(lambda acc,x: x if x[1] > acc[1] else acc)\n",
    "#Format the result\n",
    "result = med2.map(lambda x: (x[0],x[1][0],x[1][1])).collect()"
   ]
  },
  {
   "cell_type": "code",
   "execution_count": 88,
   "metadata": {},
   "outputs": [
    {
     "name": "stdout",
     "output_type": "stream",
     "text": [
      "Wall time: 12.9 s\n"
     ]
    }
   ],
   "source": [
    "%%time\n",
    "#Q10: Which country won the most gold medals the year it hosted the olympics?\n",
    "\n",
    "#First we need to create a table that contains to which country does the city where the olympics took place belong\n",
    "lookup = sk.sparkContext.parallelize([(\"Montreal\",\"Canada\"),(\"Moscow\",\"Soviet Union\"),(\"Los Angeles\",\"United States\"),\n",
    "                                      (\"Seoul\",\"Korea, South\"),(\"Barcelona\",\"Spain\"),(\"Atlanta\",\"United States\"),\n",
    "                                      (\"Sydney\",\"Australia\"),(\"Athens\",\"Greece\"),(\"Beijing\",\"China\")])\n",
    "#Select the columns containing the olympic city, country and medals\n",
    "imp = df.rdd.map(lambda x: (x[0],x[8],x[10]))\n",
    "#Keep only the gold medals and group them for each country for each city\n",
    "med = imp.filter(lambda x: x[2] == \"Gold\").map(lambda x: ((x[0],x[1]),1)).reduceByKey(lambda acc,x: x + acc)\n",
    "#Keep only the olympics where each country won the most gold medals\n",
    "med2 = med.map(lambda x: (x[0][1],(x[0][0],x[1]))).reduceByKey(lambda acc,x: x if x[1] > acc[1] else acc)\n",
    "#Check on the table we created if a country won the most gold medals when the city hosting the olympics belonged to that country\n",
    "med3 = med2.map(lambda x: (x[1][0],(x[0],x[1][1]))).join(lookup).filter(lambda x: x[1][0][0] == x[1][1])\n",
    "#Format the result\n",
    "result = med3.map(lambda x: (x[0],x[1][1],x[1][0][1])).collect()"
   ]
  },
  {
   "cell_type": "code",
   "execution_count": 25,
   "metadata": {},
   "outputs": [
    {
     "name": "stdout",
     "output_type": "stream",
     "text": [
      "Wall time: 1.65 s\n"
     ]
    }
   ],
   "source": [
    "%%time\n",
    "#Q11: Which athletes won at a medal in more than 3 different olympics?\n",
    "\n",
    "#Select name of the athlete and olympic year without repetitions (more than one medal won in that year)\n",
    "imp = df.rdd.map(lambda x: (x[5],x[1])).distinct()\n",
    "#Calculate in how many olympics did the athlete win a medal and keep only the ones that are greater than 3\n",
    "med = imp.map(lambda x: (x[0],1)).reduceByKey(lambda acc,x: x + acc).filter(lambda x: x[1] > 3)\n",
    "#Sort the result\n",
    "result = med.map(lambda x: (x[1],x[0])).sortByKey(0).collect()"
   ]
  },
  {
   "cell_type": "code",
   "execution_count": 27,
   "metadata": {},
   "outputs": [
    {
     "name": "stdout",
     "output_type": "stream",
     "text": [
      "Wall time: 6.76 s\n"
     ]
    }
   ],
   "source": [
    "%%time\n",
    "#Q12: How long is the career of atlethes that performed well even after 15 years?\n",
    "\n",
    "#Select name of the athlete, discipline and year of olympics without repetitions (more than one medal won in that year)\n",
    "imp = df.rdd.map(lambda x: ((x[5],x[3]),x[1])).distinct()\n",
    "#Keep only the athletes that won a medal more than 15 years after they won the first one\n",
    "med = imp.join(imp).filter(lambda x: int(x[1][1]) - int(x[1][0]) > 15)\n",
    "#To consider the whole career we need to only keep the biggest gap between two olympics\n",
    "med2 = med.map(lambda x: (x[0],(x[1],int(x[1][1]) - int(x[1][0])))).reduceByKey(lambda acc,x: x if x[1] > acc[1] else acc)\n",
    "#Sort and format the result\n",
    "result = med2.map(lambda x: (x[1][1],(x[1][0],x[0]))).sortByKey(0).map(lambda x: (x[1][1],x[1][0],x[0])).collect()"
   ]
  },
  {
   "cell_type": "code",
   "execution_count": 29,
   "metadata": {},
   "outputs": [
    {
     "name": "stdout",
     "output_type": "stream",
     "text": [
      "Wall time: 3.2 s\n"
     ]
    }
   ],
   "source": [
    "%%time\n",
    "#Q13: Which countries won both gold medals in the same olympic in an event that was held for men and women?\n",
    "\n",
    "#Select the colums containing the year, discipline, event, country, gender event and medals\n",
    "imp = df.rdd.map(lambda x: (x[1],x[3],x[4],x[8],x[9],x[10]))\n",
    "#Keep only the gold medal winners for non-mixed sports and remove duplicates (teammates in team sports are counted as 1)\n",
    "med = imp.filter(lambda x: x[5] == \"Gold\" and x[4] != \"X\").map(lambda x: ((x[0],x[1],x[2]),(x[3],x[4]))).distinct()\n",
    "#Keep only the sports in which the same country won both gold medals for the man and the women competition\n",
    "med2 = med.join(med).filter(lambda x: x[1][0][0] == x[1][1][0] and x[1][0][1] == \"M\" and x[1][1][1] == \"W\")\n",
    "#Format the result\n",
    "result = med2.map(lambda x: (x[0][0],x[0][1],x[0][2],x[1][0][0])).collect()"
   ]
  },
  {
   "cell_type": "code",
   "execution_count": 91,
   "metadata": {},
   "outputs": [
    {
     "name": "stdout",
     "output_type": "stream",
     "text": [
      "Wall time: 16.3 s\n"
     ]
    }
   ],
   "source": [
    "%%time\n",
    "#Q14: What is the average number of medals that each country won?\n",
    "\n",
    "#Select the columns containing the countries and the year of the olympics\n",
    "imp = df.rdd.map(lambda x: (x[8],x[1]))\n",
    "#Sum up the number of medals for each country for each year\n",
    "med = imp.map(lambda x: ((x[0],x[1]),1)).reduceByKey(lambda acc,x: x + acc)\n",
    "#Create the list of all the olympics in the dataset\n",
    "ref = df.rdd.map(lambda x: (x[1])).distinct()\n",
    "#Create the list of all the countries in the dataset, then cartesian product them together with the list of olympics\n",
    "ref2 = df.rdd.map(lambda x: (x[8])).distinct().cartesian(ref).map(lambda x: ((x[0],x[1]),\"\"))\n",
    "#From the result remove the couple (country, year) if the country didn't participate that year\n",
    "ref3 = exceptions.rdd.map(lambda x: ((x[0],x[1]),\"\")).rightOuterJoin(ref2).filter(lambda x: x[1][0] is None).map(lambda x: (x[0],\"\"))\n",
    "#If the country did participate but didn't have any medals for that year it should count as having \"won\" 0 medals\n",
    "med2 = ref3.leftOuterJoin(med).map(lambda x: (x[0][0],x[1][1]) if x[1][1] is not None else (x[0][0],0))\n",
    "#Calculate the average\n",
    "med3 = med2.aggregateByKey((0,0),lambda a,b: (a[0]+b, a[1]+1),lambda a,b: (a[0]+b[0],a[1]+b[1])).mapValues(lambda x: x[0]/x[1])\n",
    "#Sort and format the result\n",
    "result = med3.map(lambda x: (x[1],x[0])).sortByKey(0).collect()"
   ]
  },
  {
   "cell_type": "code",
   "execution_count": 33,
   "metadata": {},
   "outputs": [
    {
     "name": "stdout",
     "output_type": "stream",
     "text": [
      "Wall time: 1.61 s\n"
     ]
    }
   ],
   "source": [
    "%%time\n",
    "#Q15: Which athletes won the most medals for each sport?\n",
    "\n",
    "#Select the columns containing the name of the athletes,country of origin and sport\n",
    "imp = df.rdd.map(lambda x:(x[5],x[8],x[2]))\n",
    "#Sum up the number of medals won for each tuple (athlete,country,sport)\n",
    "med = imp.map(lambda x:((x[0],x[1],x[2]),1)).reduceByKey(lambda acc,x:acc+x)\n",
    "#Return the athlete that won the most medals for each sport\n",
    "med2 = med.map(lambda x:(x[0][2],(x[0][0],x[0][1],x[1]))).reduceByKey(lambda a,b:a if a[2]>b[2] else b)\n",
    "#Format the result\n",
    "result = med2.map(lambda x: (x[0],(x[1][0],x[1][1]),x[1][2])).collect()"
   ]
  },
  {
   "cell_type": "code",
   "execution_count": 35,
   "metadata": {},
   "outputs": [
    {
     "name": "stdout",
     "output_type": "stream",
     "text": [
      "Wall time: 1.52 s\n"
     ]
    }
   ],
   "source": [
    "%%time\n",
    "#Q16: Women of which country had better performance than men in mixed sports?\n",
    "\n",
    "#Select the columns containing the gender,country and sport gender\n",
    "imp = df.rdd.map(lambda x:(x[6],x[8],x[9]))\n",
    "#Keep only the mixed sports and sum up the number of medals for each country and gender\n",
    "med = imp.filter(lambda x:x[2]==\"X\").map(lambda x:((x[1],x[0]),1)).reduceByKey(lambda acc,x:acc+x)\n",
    "#Return the gender that performed better for each country\n",
    "med2 = med.map(lambda x:(x[0][0],(x[0][1],x[1]))).reduceByKey(lambda a,b:a if a[1]>b[1] else b)\n",
    "#Return the countries where women had better performance\n",
    "result = med2.filter(lambda x:(x[1][0]==\"Women\")).map(lambda x:(x[0],x[1][1])).collect()"
   ]
  },
  {
   "cell_type": "code",
   "execution_count": 93,
   "metadata": {},
   "outputs": [
    {
     "name": "stdout",
     "output_type": "stream",
     "text": [
      "Wall time: 1.7 s\n"
     ]
    }
   ],
   "source": [
    "%%time\n",
    "#Q17: Which are the Top 3 countries that have the least difference between percebtages of female and male winners?\n",
    "\n",
    "#Select the tuples (country and gender) and calculate the number of medals won for each\n",
    "imp = df.rdd.map(lambda x: ((x[8],x[6]),1)).reduceByKey(lambda acc,x:acc+x)\n",
    "#For each country create a result (gender, number of medals won by that gender, number of medals won by both genders)\n",
    "med = imp.map(lambda x:(x[0][0],(x[0][1],x[1]))).reduceByKey(lambda acc,x: (acc[0],acc[1],acc[1]+x[1]))\n",
    "#For each country return the tuple (percentage of female winners, percentage of male winners)\n",
    "med2 = med.map(lambda x: (x[0],(x[1][1]*100/x[1][-1],(x[1][-1]-x[1][1])*100/x[1][-1])) if x[1][0] == \"Man\" else (x[0],((x[1][-1]-x[1][1])*100/x[1][-1],x[1][1]*100/x[1][-1])))\n",
    "#Return the absolute value of the difference between the 2 percentages and the percentages aswell\n",
    "med3 = med2.map(lambda x: (abs(x[1][0]-x[1][1]),x[0],x[1]))\n",
    "#Sort the result and take the Top 3\n",
    "result = med3.sortByKey(1).take(3)"
   ]
  },
  {
   "cell_type": "code",
   "execution_count": 39,
   "metadata": {},
   "outputs": [
    {
     "name": "stdout",
     "output_type": "stream",
     "text": [
      "Wall time: 2.42 s\n"
     ]
    }
   ],
   "source": [
    "%%time\n",
    "#Q18: Which country has the most gold medals won by female athletes, which one for males?\n",
    "\n",
    "#Select the columns containing the country, gender and medals\n",
    "imp = df.rdd.map(lambda x: (x[8],x[10],x[6]))\n",
    "#Sum up the gold medals won by female athletes\n",
    "med = imp.filter(lambda x:(x[2]==\"Women\" and x[1]==\"Gold\")).map(lambda x:(x[0],1)).reduceByKey(lambda acc,x:x+acc)\n",
    "#Sum up the gold medals won by male athletes\n",
    "med2 = imp.filter(lambda x:(x[2]==\"Men\" and x[1]==\"Gold\")).map(lambda x:(x[0],1)).reduceByKey(lambda acc,x:x+acc)\n",
    "#Return the country that won the most gold medals by female athletes\n",
    "r1 = med.map(lambda x:(x[1],x[0])).sortByKey(0).map(lambda x:(\"Women\",x[0],x[1])).take(1)\n",
    "#Return the country that won the most gold medals by male athletes\n",
    "r2 = med2.map(lambda x:(x[1],x[0])).sortByKey(0).map(lambda x:(\"Man\",x[0],x[1])).take(1)\n",
    "#Final result\n",
    "result = [r1,r2]"
   ]
  },
  {
   "cell_type": "code",
   "execution_count": 41,
   "metadata": {},
   "outputs": [
    {
     "name": "stdout",
     "output_type": "stream",
     "text": [
      "Wall time: 3.13 s\n"
     ]
    }
   ],
   "source": [
    "%%time\n",
    "#Q19: Which countries have female athletes that didn't win any gold medals?\n",
    "\n",
    "#Select country, gender and medals\n",
    "imp = df.rdd.map(lambda x: (x[8],x[6],x[10]))\n",
    "#Select the countries in which at least one female athlete won a gold medal\n",
    "med = imp.filter(lambda x:(x[1]==\"Women\"and x[2]==\"Gold\")).map(lambda x: (x[0],\"\"))\n",
    "#Keep a list of all the countries with no repetitions\n",
    "ref = df.rdd.map(lambda x: (x[8],\"\")).distinct()\n",
    "#Keep only the countries that belong to the list of countries but not the list of female gold medal winners\n",
    "med2 = ref.leftOuterJoin(med).filter(lambda x: x[1][1] is None)\n",
    "#Format the result\n",
    "result = med2.map(lambda x: x[0]).collect()"
   ]
  },
  {
   "cell_type": "code",
   "execution_count": 43,
   "metadata": {},
   "outputs": [
    {
     "name": "stdout",
     "output_type": "stream",
     "text": [
      "Wall time: 1.12 s\n"
     ]
    }
   ],
   "source": [
    "%%time\n",
    "#Q20: Which are the top 5 countries that won the most medals in Taekwondo for Men?\n",
    "\n",
    "#Select country, sport and event gender\n",
    "imp = df.rdd.map(lambda x: (x[8],x[2],x[9]))\n",
    "#Keep only Taekwondo for man and sum up the medals won by each country\n",
    "med = imp.filter(lambda x:(x[1]==\"Taekwondo\" and x[2]==\"M\")).map(lambda x:(x[0],1)).reduceByKey(lambda acc,x:acc+x)\n",
    "#Sort the result and take the Top 5\n",
    "result = med.map(lambda x:(x[1],x[0])).sortByKey(0).take(5)"
   ]
  },
  {
   "cell_type": "code",
   "execution_count": 45,
   "metadata": {},
   "outputs": [
    {
     "name": "stdout",
     "output_type": "stream",
     "text": [
      "Wall time: 1.14 s\n"
     ]
    }
   ],
   "source": [
    "%%time\n",
    "#Q21: Which year did Canada win the most medals?\n",
    "\n",
    "#Select year and country\n",
    "imp = df.rdd.map(lambda x: (x[1],x[8]))\n",
    "#Sum up the medals won by Canada for each year\n",
    "med = imp.filter(lambda x:(x[1]==\"Canada\")).map(lambda x:(x[0],1)).reduceByKey(lambda acc,x:acc+x)\n",
    "#Sort the result and take the best year\n",
    "result = med.map(lambda x:(x[1],x[0])).sortByKey(0).take(1)"
   ]
  },
  {
   "cell_type": "code",
   "execution_count": 47,
   "metadata": {},
   "outputs": [
    {
     "name": "stdout",
     "output_type": "stream",
     "text": [
      "Wall time: 1.04 s\n"
     ]
    }
   ],
   "source": [
    "%%time\n",
    "#Q22: In which discipline does the United States have more medals?\n",
    "\n",
    "#Select country and discipline\n",
    "imp = df.rdd.map(lambda x: (x[8],x[3]))\n",
    "#Sum up the medals won by the United States for each discipline\n",
    "med =imp.filter(lambda x:(x[0]==\"United States\")).map(lambda x:(x[1],1)).reduceByKey(lambda acc,x:acc+x)\n",
    "#Sort the result and take the bast discipline\n",
    "result = med.map(lambda x:(x[1],x[0])).sortByKey(0).take(1)"
   ]
  },
  {
   "cell_type": "code",
   "execution_count": 94,
   "metadata": {
    "scrolled": true
   },
   "outputs": [
    {
     "name": "stdout",
     "output_type": "stream",
     "text": [
      "(0.0, 'Greece', (50.0, 50.0))\n",
      "(0.0, 'Vietnam', (50.0, 50.0))\n",
      "(0.881057268722472, 'Korea, South', (49.559471365638764, 50.440528634361236))\n",
      "Wall time: 0 ns\n"
     ]
    }
   ],
   "source": [
    "%%time\n",
    "#Final result\n",
    "for e in result:\n",
    "    print(e)"
   ]
  },
  {
   "cell_type": "code",
   "execution_count": null,
   "metadata": {},
   "outputs": [],
   "source": [
    "sk.stop()"
   ]
  }
 ],
 "metadata": {
  "kernelspec": {
   "display_name": "Python 3",
   "language": "python",
   "name": "python3"
  },
  "language_info": {
   "codemirror_mode": {
    "name": "ipython",
    "version": 3
   },
   "file_extension": ".py",
   "mimetype": "text/x-python",
   "name": "python",
   "nbconvert_exporter": "python",
   "pygments_lexer": "ipython3",
   "version": "3.7.1"
  }
 },
 "nbformat": 4,
 "nbformat_minor": 2
}
